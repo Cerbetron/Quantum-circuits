{
 "cells": [
  {
   "cell_type": "code",
   "execution_count": 1,
   "metadata": {},
   "outputs": [],
   "source": [
    "from qiskit import QuantumRegister, ClassicalRegister, QuantumCircuit"
   ]
  },
  {
   "cell_type": "code",
   "execution_count": 2,
   "metadata": {},
   "outputs": [
    {
     "data": {
      "image/png": "[encoded data removed]",
      "text/plain": [
       "<Figure size 161.878x284.278 with 1 Axes>"
      ]
     },
     "execution_count": 2,
     "metadata": {},
     "output_type": "execute_result"
    }
   ],
   "source": [
    "q = QuantumRegister(2,'q')\n",
    "c = ClassicalRegister(2,'c')\n",
    "circuit = QuantumCircuit(q,c)\n",
    "circuit.draw('mpl')"
   ]
  },
  {
   "cell_type": "code",
   "execution_count": 3,
   "metadata": {},
   "outputs": [],
   "source": [
    "def firstBellState():\n",
    "    circuit.h(q[0]) # Hadamard gate \n",
    "    circuit.cx(q[0],q[1]) # CNOT gate\n",
    "    circuit.measure(q,c) # Qubit Measurment\n",
    "\n",
    "    print(circuit)"
   ]
  },
  {
   "cell_type": "code",
   "execution_count": 4,
   "metadata": {},
   "outputs": [],
   "source": [
    "def secondBellState():\n",
    "    circuit = QuantumCircuit(q,c)\n",
    "\n",
    "    circuit.x(q[0]) # Pauli-X gate \n",
    "    circuit.h(q[0]) # Hadamard gate \n",
    "    circuit.cx(q[0],q[1]) # CNOT gate\n",
    "    circuit.measure(q,c) # Qubit Measurment\n",
    "\n",
    "    print(circuit)"
   ]
  },
  {
   "cell_type": "code",
   "execution_count": 5,
   "metadata": {},
   "outputs": [],
   "source": [
    "def thirdBellState():\n",
    "    circuit = QuantumCircuit(q,c)\n",
    "\n",
    "    circuit.x(q[1]) # Pauli-X gate \n",
    "    circuit.h(q[0]) # Hadamard gate \n",
    "    circuit.cx(q[0],q[1]) # CNOT gate\n",
    "    circuit.measure(q,c) # Qubit Measurment\n",
    "\n",
    "    print(circuit)\n"
   ]
  },
  {
   "cell_type": "code",
   "execution_count": 6,
   "metadata": {},
   "outputs": [],
   "source": [
    "def fourthBellState():\n",
    "    circuit = QuantumCircuit(q,c)\n",
    "\n",
    "    circuit.x(q[1]) # Pauli-X gate \n",
    "    circuit.h(q[0]) # Hadamard gate\n",
    "    circuit.z(q[0]) # Pauli-Z gate\n",
    "    circuit.z(q[1]) # Pauli-Z  gate \n",
    "    circuit.cx(q[0],q[1]) # CNOT gate\n",
    "    circuit.measure(q,c) # Qubit Measurment\n",
    "\n",
    "    print(circuit)\n"
   ]
  },
  {
   "cell_type": "code",
   "execution_count": 7,
   "metadata": {},
   "outputs": [
    {
     "name": "stdout",
     "output_type": "stream",
     "text": [
      "     ┌───┐     ┌─┐   \n",
      "q_0: ┤ H ├──■──┤M├───\n",
      "     └───┘┌─┴─┐└╥┘┌─┐\n",
      "q_1: ─────┤ X ├─╫─┤M├\n",
      "          └───┘ ║ └╥┘\n",
      "c: 2/═══════════╩══╩═\n",
      "                0  1 \n",
      "     ┌───┐┌───┐     ┌─┐   \n",
      "q_0: ┤ X ├┤ H ├──■──┤M├───\n",
      "     └───┘└───┘┌─┴─┐└╥┘┌─┐\n",
      "q_1: ──────────┤ X ├─╫─┤M├\n",
      "               └───┘ ║ └╥┘\n",
      "c: 2/════════════════╩══╩═\n",
      "                     0  1 \n",
      "     ┌───┐     ┌─┐   \n",
      "q_0: ┤ H ├──■──┤M├───\n",
      "     ├───┤┌─┴─┐└╥┘┌─┐\n",
      "q_1: ┤ X ├┤ X ├─╫─┤M├\n",
      "     └───┘└───┘ ║ └╥┘\n",
      "c: 2/═══════════╩══╩═\n",
      "                0  1 \n",
      "     ┌───┐┌───┐     ┌─┐   \n",
      "q_0: ┤ H ├┤ Z ├──■──┤M├───\n",
      "     ├───┤├───┤┌─┴─┐└╥┘┌─┐\n",
      "q_1: ┤ X ├┤ Z ├┤ X ├─╫─┤M├\n",
      "     └───┘└───┘└───┘ ║ └╥┘\n",
      "c: 2/════════════════╩══╩═\n",
      "                     0  1 \n"
     ]
    }
   ],
   "source": [
    "firstBellState()\n",
    "secondBellState()\n",
    "thirdBellState()\n",
    "fourthBellState()"
   ]
  }
 ],
 "metadata": {
  "kernelspec": {
   "display_name": "base",
   "language": "python",
   "name": "python3"
  },
  "language_info": {
   "codemirror_mode": {
    "name": "ipython",
    "version": 3
   },
   "file_extension": ".py",
   "mimetype": "text/x-python",
   "name": "python",
   "nbconvert_exporter": "python",
   "pygments_lexer": "ipython3",
   "version": "undefined.undefined.undefined"
  }
 },
 "nbformat": 4,
 "nbformat_minor": 2
}
