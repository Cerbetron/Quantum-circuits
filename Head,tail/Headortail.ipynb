{
 "cells": [
  {
   "cell_type": "code",
   "execution_count": 1,
   "metadata": {},
   "outputs": [],
   "source": [
    "from qiskit import QuantumRegister, ClassicalRegister, QuantumCircuit\n",
    "from numpy import pi"
   ]
  },
  {
   "cell_type": "code",
   "execution_count": 3,
   "metadata": {},
   "outputs": [
    {
     "data": {
      "image/png": "[encoded data removed]",
      "text/plain": [
       "<Figure size 143.647x200.667 with 1 Axes>"
      ]
     },
     "execution_count": 3,
     "metadata": {},
     "output_type": "execute_result"
    }
   ],
   "source": [
    "qr = QuantumRegister(1,'q')\n",
    "cr = ClassicalRegister(1,'c')\n",
    "qc = QuantumCircuit(qr,cr)\n",
    "qc.draw('mpl')"
   ]
  },
  {
   "cell_type": "code",
   "execution_count": 4,
   "metadata": {},
   "outputs": [
    {
     "data": {
      "image/png": "[encoded data removed]",
      "text/plain": [
       "<Figure size 436.286x200.667 with 1 Axes>"
      ]
     },
     "execution_count": 4,
     "metadata": {},
     "output_type": "execute_result"
    }
   ],
   "source": [
    "qc.h(qr[0])\n",
    "qc.x(qr[0])\n",
    "qc.h(qr[0])\n",
    "qc.measure(qr[0], cr[0])\n",
    "qc.draw('mpl')"
   ]
  },
  {
   "cell_type": "markdown",
   "metadata": {},
   "source": [
    "We translate this game into conventional QC terminology as follows:\n",
    "The coin is a single qbit state |ψ⟩=[αβ]\n",
    "\n",
    "where α,β∈C and |α|2+|β|2=1\n",
    "\"Flipping\" the coin is application of the bit-flip operator X=[0110]\n",
    "The \"heads\" state is defined as |0⟩=[10]\n",
    "and \"tails\" as |1⟩=[01]\n",
    "The quantum computer \"plays\" by applying the Hadamard operator H=⎡⎣12√12√12√−12√⎤⎦\n",
    "\n",
    "The game is conducted as follows:\n",
    "The coin is initialized to the |0⟩\n",
    "\n",
    "\"heads\" state.\n",
    "The computer plays, applying the Hadamard operator to the coin (operators are applied using matrix multiplication). The coin enters the |+⟩=⎡⎣12√12√⎤⎦\n",
    "state.\n",
    "The human plays, choosing whether to flip the coin (apply the X\n",
    "operator). However, since the X operator just flips the state vector upside down, X has no effect; X|+⟩=|+⟩. No matter what, the state is |+⟩\n",
    "after the human plays.\n",
    "The computer plays, applying the Hadamard operator again, taking the coin to the |0⟩\n",
    "\"heads\" state.\n",
    "\n",
    "Thus the computer always wins, except for 3%\n",
    "\n",
    "of the time when errors cause it to not behave according to this model.\n",
    "\n",
    "The example deals with the basic quantum states |0⟩\n",
    ", |1⟩, |+⟩, and |−⟩, plus the common ways of moving between them with the X, H, and Z\n",
    "\n",
    "gates. This is the same material you learn about in IBM's Hello Quantum game.\n"
   ]
  }
 ],
 "metadata": {
  "kernelspec": {
   "display_name": "base",
   "language": "python",
   "name": "python3"
  },
  "language_info": {
   "codemirror_mode": {
    "name": "ipython",
    "version": 3
   },
   "file_extension": ".py",
   "mimetype": "text/x-python",
   "name": "python",
   "nbconvert_exporter": "python",
   "pygments_lexer": "ipython3",
   "version": "undefined.undefined.undefined"
  }
 },
 "nbformat": 4,
 "nbformat_minor": 2
}
